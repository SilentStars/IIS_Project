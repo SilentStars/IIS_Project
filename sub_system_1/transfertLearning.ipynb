{
 "cells": [
  {
   "cell_type": "code",
   "execution_count": 98,
   "metadata": {},
   "outputs": [],
   "source": [
    "import pandas as pd\n",
    "import os\n",
    "from glob import glob\n",
    "import numpy as np\n",
    "from sklearn.model_selection import train_test_split\n",
    "from tensorflow.keras.models import Sequential\n",
    "from tensorflow.keras.layers import Input,Dense\n",
    "from tensorflow.keras.optimizers import Adamax\n",
    "from tensorflow.keras.losses import mean_squared_error\n",
    "from tensorflow.keras.callbacks import EarlyStopping\n",
    "import tensorflow.keras.backend as K\n",
    "import plotly.express as px\n",
    "from plotly.subplots import make_subplots\n",
    "import plotly.graph_objects as go\n",
    "from sklearn.metrics import recall_score,precision_score,accuracy_score"
   ]
  },
  {
   "cell_type": "code",
   "execution_count": 16,
   "metadata": {},
   "outputs": [
    {
     "name": "stderr",
     "output_type": "stream",
     "text": [
      "/Users/sprietthibault/miniforge3/envs/tf/lib/python3.8/site-packages/numpy/lib/arraysetops.py:583: FutureWarning: elementwise comparison failed; returning scalar instead, but in the future will perform elementwise comparison\n",
      "  mask |= (ar1 == a)\n"
     ]
    },
    {
     "name": "stdout",
     "output_type": "stream",
     "text": [
      "1008500 rows in mp_annot\n",
      "1074906 rows in true_annot\n"
     ]
    }
   ],
   "source": [
    "mp_annot = pd.read_csv('mp_annotations.csv',index_col=0)\n",
    "print(f\"{mp_annot.shape[0]} rows in mp_annot\")\n",
    "files = glob(f\"{os.pardir}{os.sep}course_dataset{os.sep}ASL*{os.sep}annotations.csv\")\n",
    "true_annot = pd.concat([pd.read_csv(f).set_index('ID') for f in files],ignore_index=True)\n",
    "true_annot.drop('person_idx',axis=1,inplace=True)\n",
    "print(f\"{true_annot.shape[0]} rows in true_annot\")"
   ]
  },
  {
   "cell_type": "code",
   "execution_count": 24,
   "metadata": {},
   "outputs": [
    {
     "data": {
      "text/html": [
       "<div>\n",
       "<style scoped>\n",
       "    .dataframe tbody tr th:only-of-type {\n",
       "        vertical-align: middle;\n",
       "    }\n",
       "\n",
       "    .dataframe tbody tr th {\n",
       "        vertical-align: top;\n",
       "    }\n",
       "\n",
       "    .dataframe thead th {\n",
       "        text-align: right;\n",
       "    }\n",
       "</style>\n",
       "<table border=\"1\" class=\"dataframe\">\n",
       "  <thead>\n",
       "    <tr style=\"text-align: right;\">\n",
       "      <th></th>\n",
       "      <th>frame</th>\n",
       "      <th>gesture</th>\n",
       "      <th>joint</th>\n",
       "      <th>video_idx</th>\n",
       "      <th>x_x</th>\n",
       "      <th>y_x</th>\n",
       "      <th>x_y</th>\n",
       "      <th>y_y</th>\n",
       "    </tr>\n",
       "  </thead>\n",
       "  <tbody>\n",
       "    <tr>\n",
       "      <th>0</th>\n",
       "      <td>0</td>\n",
       "      <td>ASL_letter_A</td>\n",
       "      <td>root</td>\n",
       "      <td>0</td>\n",
       "      <td>342.496634</td>\n",
       "      <td>523.881149</td>\n",
       "      <td>323.633333</td>\n",
       "      <td>520.750000</td>\n",
       "    </tr>\n",
       "    <tr>\n",
       "      <th>1</th>\n",
       "      <td>0</td>\n",
       "      <td>ASL_letter_A</td>\n",
       "      <td>thumb_1</td>\n",
       "      <td>0</td>\n",
       "      <td>264.379234</td>\n",
       "      <td>453.056450</td>\n",
       "      <td>266.033333</td>\n",
       "      <td>454.616667</td>\n",
       "    </tr>\n",
       "    <tr>\n",
       "      <th>2</th>\n",
       "      <td>0</td>\n",
       "      <td>ASL_letter_A</td>\n",
       "      <td>thumb_2</td>\n",
       "      <td>0</td>\n",
       "      <td>225.868979</td>\n",
       "      <td>451.839333</td>\n",
       "      <td>230.833333</td>\n",
       "      <td>445.016667</td>\n",
       "    </tr>\n",
       "    <tr>\n",
       "      <th>3</th>\n",
       "      <td>0</td>\n",
       "      <td>ASL_letter_A</td>\n",
       "      <td>thumb_3</td>\n",
       "      <td>0</td>\n",
       "      <td>202.671032</td>\n",
       "      <td>472.358170</td>\n",
       "      <td>199.900000</td>\n",
       "      <td>466.350000</td>\n",
       "    </tr>\n",
       "    <tr>\n",
       "      <th>4</th>\n",
       "      <td>0</td>\n",
       "      <td>ASL_letter_A</td>\n",
       "      <td>index_1</td>\n",
       "      <td>0</td>\n",
       "      <td>229.475327</td>\n",
       "      <td>493.944626</td>\n",
       "      <td>0.000000</td>\n",
       "      <td>0.000000</td>\n",
       "    </tr>\n",
       "  </tbody>\n",
       "</table>\n",
       "</div>"
      ],
      "text/plain": [
       "   frame       gesture    joint  video_idx         x_x         y_x  \\\n",
       "0      0  ASL_letter_A     root          0  342.496634  523.881149   \n",
       "1      0  ASL_letter_A  thumb_1          0  264.379234  453.056450   \n",
       "2      0  ASL_letter_A  thumb_2          0  225.868979  451.839333   \n",
       "3      0  ASL_letter_A  thumb_3          0  202.671032  472.358170   \n",
       "4      0  ASL_letter_A  index_1          0  229.475327  493.944626   \n",
       "\n",
       "          x_y         y_y  \n",
       "0  323.633333  520.750000  \n",
       "1  266.033333  454.616667  \n",
       "2  230.833333  445.016667  \n",
       "3  199.900000  466.350000  \n",
       "4    0.000000    0.000000  "
      ]
     },
     "execution_count": 24,
     "metadata": {},
     "output_type": "execute_result"
    }
   ],
   "source": [
    "df = pd.merge(mp_annot,true_annot,on=[\"frame\",\"gesture\",\"joint\",\"video_idx\"])\n",
    "df.head()"
   ]
  },
  {
   "cell_type": "code",
   "execution_count": 33,
   "metadata": {},
   "outputs": [],
   "source": [
    "X_train,X_val,X_test = [],[],[]\n",
    "y_train,y_val,y_test = [],[],[]\n",
    "\n",
    "for label in df.gesture.unique():\n",
    "    df = df.loc[df.gesture == label]\n",
    "    video_idx = df.video_idx.unique()\n",
    "    train,test = train_test_split(video_idx,test_size=.2)\n",
    "    train,val = train_test_split(train,test_size=.2)\n",
    "    for idx in video_idx:\n",
    "        frames = df.loc[df.video_idx == idx]\n",
    "        coordinates_X = frames[[\"x_x\",\"y_x\"]].to_numpy().reshape(len(frames.frame.unique()),40).tolist()\n",
    "        coordinates_y = frames[[\"x_y\",\"y_y\"]].to_numpy().reshape(len(frames.frame.unique()),40).tolist()\n",
    "        if idx in train:\n",
    "            X_train+= coordinates_X\n",
    "            y_train+= coordinates_y\n",
    "        elif idx in val:\n",
    "            X_val+= coordinates_X\n",
    "            y_val+= coordinates_y\n",
    "\n",
    "        else:\n",
    "            assert idx in test\n",
    "            X_test+= coordinates_X\n",
    "            y_test+= coordinates_y\n",
    "\n",
    "X_train,X_val,X_test = np.array(X_train),np.array(X_val),np.array(X_test)\n",
    "y_train,y_val,y_test = np.array(y_train),np.array(y_val),np.array(y_test)"
   ]
  },
  {
   "cell_type": "code",
   "execution_count": 79,
   "metadata": {},
   "outputs": [],
   "source": [
    "def euclidean_distance_loss(y_true, y_pred):\n",
    "    \"\"\"\n",
    "    Euclidean distance loss\n",
    "    https://en.wikipedia.org/wiki/Euclidean_distance\n",
    "    :param y_true: TensorFlow/Theano tensor\n",
    "    :param y_pred: TensorFlow/Theano tensor of the same shape as y_true\n",
    "    :return: float\n",
    "    \"\"\"\n",
    "    return K.sqrt(K.sum(K.square(y_pred - y_true), axis=-1))\n",
    "\n",
    "model = Sequential(\n",
    "    layers=[\n",
    "        Input(shape=(40,)),\n",
    "        Dense(1024),\n",
    "        Dense(1024),\n",
    "        Dense(1024),\n",
    "        Dense(1024),\n",
    "        Dense(40,activation='relu')\n",
    "    ]\n",
    ")\n",
    "model.compile(optimizer=Adamax(learning_rate=1e-4),loss=euclidean_distance_loss)\n",
    "earlyStop = EarlyStopping(\n",
    "    monitor='val_loss',\n",
    "    min_delta=1e-3,\n",
    "    patience=5\n",
    ")"
   ]
  },
  {
   "cell_type": "code",
   "execution_count": 80,
   "metadata": {},
   "outputs": [
    {
     "name": "stdout",
     "output_type": "stream",
     "text": [
      "Epoch 1/100\n",
      "216/216 [==============================] - 2s 7ms/step - loss: 899.7087 - val_loss: 875.7277\n",
      "Epoch 2/100\n",
      "216/216 [==============================] - 1s 6ms/step - loss: 806.1906 - val_loss: 829.2652\n",
      "Epoch 3/100\n",
      "216/216 [==============================] - 1s 6ms/step - loss: 803.2036 - val_loss: 861.2900\n",
      "Epoch 4/100\n",
      "216/216 [==============================] - 1s 7ms/step - loss: 803.3894 - val_loss: 905.6494\n",
      "Epoch 5/100\n",
      "216/216 [==============================] - 1s 6ms/step - loss: 725.4840 - val_loss: 784.5983\n",
      "Epoch 6/100\n",
      "216/216 [==============================] - 1s 6ms/step - loss: 640.3568 - val_loss: 700.5961\n",
      "Epoch 7/100\n",
      "216/216 [==============================] - 1s 7ms/step - loss: 567.4111 - val_loss: 487.1414\n",
      "Epoch 8/100\n",
      "216/216 [==============================] - 1s 6ms/step - loss: 441.3905 - val_loss: 445.1917\n",
      "Epoch 9/100\n",
      "216/216 [==============================] - 1s 6ms/step - loss: 445.0602 - val_loss: 432.8632\n",
      "Epoch 10/100\n",
      "216/216 [==============================] - 1s 6ms/step - loss: 434.8577 - val_loss: 475.8441\n",
      "Epoch 11/100\n",
      "216/216 [==============================] - 1s 6ms/step - loss: 422.4939 - val_loss: 478.6164\n",
      "Epoch 12/100\n",
      "216/216 [==============================] - 1s 6ms/step - loss: 411.0621 - val_loss: 353.3021\n",
      "Epoch 13/100\n",
      "216/216 [==============================] - 1s 6ms/step - loss: 351.5007 - val_loss: 378.7165\n",
      "Epoch 14/100\n",
      "216/216 [==============================] - 1s 6ms/step - loss: 322.4046 - val_loss: 343.8242\n",
      "Epoch 15/100\n",
      "216/216 [==============================] - 1s 6ms/step - loss: 259.6183 - val_loss: 269.4574\n",
      "Epoch 16/100\n",
      "216/216 [==============================] - 1s 6ms/step - loss: 254.5283 - val_loss: 358.6283\n",
      "Epoch 17/100\n",
      "216/216 [==============================] - 1s 6ms/step - loss: 252.4734 - val_loss: 290.1450\n",
      "Epoch 18/100\n",
      "216/216 [==============================] - 1s 6ms/step - loss: 241.5776 - val_loss: 328.3003\n",
      "Epoch 19/100\n",
      "216/216 [==============================] - 1s 6ms/step - loss: 242.4836 - val_loss: 313.2462\n",
      "Epoch 20/100\n",
      "216/216 [==============================] - 1s 6ms/step - loss: 240.6622 - val_loss: 327.6866\n",
      "Epoch 21/100\n",
      "216/216 [==============================] - 1s 6ms/step - loss: 230.7443 - val_loss: 289.9460\n",
      "Epoch 22/100\n",
      "216/216 [==============================] - 1s 6ms/step - loss: 235.5915 - val_loss: 294.6982\n",
      "Epoch 23/100\n",
      "216/216 [==============================] - 1s 6ms/step - loss: 247.4392 - val_loss: 358.1989\n",
      "Epoch 24/100\n",
      "216/216 [==============================] - 1s 6ms/step - loss: 234.9294 - val_loss: 374.3484\n",
      "Epoch 25/100\n",
      "216/216 [==============================] - 1s 6ms/step - loss: 227.8960 - val_loss: 276.9131\n",
      "Epoch 26/100\n",
      "216/216 [==============================] - 1s 6ms/step - loss: 224.6060 - val_loss: 349.4584\n",
      "Epoch 27/100\n",
      "216/216 [==============================] - 1s 6ms/step - loss: 224.5873 - val_loss: 434.5818\n",
      "Epoch 28/100\n",
      "216/216 [==============================] - 1s 6ms/step - loss: 234.1993 - val_loss: 327.2862\n",
      "Epoch 29/100\n",
      "216/216 [==============================] - 1s 6ms/step - loss: 227.9129 - val_loss: 389.2625\n",
      "Epoch 30/100\n",
      "216/216 [==============================] - 1s 6ms/step - loss: 231.9958 - val_loss: 280.2067\n",
      "Epoch 31/100\n",
      "216/216 [==============================] - 1s 6ms/step - loss: 223.1991 - val_loss: 339.2014\n",
      "Epoch 32/100\n",
      "216/216 [==============================] - 1s 6ms/step - loss: 221.4533 - val_loss: 327.1873\n",
      "Epoch 33/100\n",
      "216/216 [==============================] - 1s 6ms/step - loss: 216.6726 - val_loss: 376.4733\n",
      "Epoch 34/100\n",
      "216/216 [==============================] - 1s 6ms/step - loss: 222.4400 - val_loss: 300.8541\n",
      "Epoch 35/100\n",
      "216/216 [==============================] - 1s 7ms/step - loss: 216.8987 - val_loss: 359.0431\n",
      "Epoch 36/100\n",
      "216/216 [==============================] - 1s 6ms/step - loss: 210.6823 - val_loss: 316.3242\n",
      "Epoch 37/100\n",
      "216/216 [==============================] - 1s 6ms/step - loss: 221.6965 - val_loss: 342.4246\n",
      "Epoch 38/100\n",
      "216/216 [==============================] - 1s 6ms/step - loss: 217.0737 - val_loss: 301.9603\n",
      "Epoch 39/100\n",
      "216/216 [==============================] - 1s 6ms/step - loss: 211.7024 - val_loss: 364.3361\n",
      "Epoch 40/100\n",
      "216/216 [==============================] - 1s 6ms/step - loss: 212.5648 - val_loss: 308.9594\n",
      "Epoch 41/100\n",
      "216/216 [==============================] - 1s 6ms/step - loss: 219.2895 - val_loss: 283.8247\n",
      "Epoch 42/100\n",
      "216/216 [==============================] - 1s 6ms/step - loss: 213.5048 - val_loss: 304.5533\n",
      "Epoch 43/100\n",
      "216/216 [==============================] - 1s 6ms/step - loss: 227.8814 - val_loss: 401.5501\n",
      "Epoch 44/100\n",
      "216/216 [==============================] - 1s 6ms/step - loss: 211.8140 - val_loss: 350.0811\n",
      "Epoch 45/100\n",
      "216/216 [==============================] - 1s 6ms/step - loss: 210.8645 - val_loss: 315.9704\n",
      "Epoch 46/100\n",
      "216/216 [==============================] - 1s 6ms/step - loss: 220.0690 - val_loss: 313.1125\n",
      "Epoch 47/100\n",
      "216/216 [==============================] - 1s 6ms/step - loss: 213.9890 - val_loss: 345.8703\n",
      "Epoch 48/100\n",
      "216/216 [==============================] - 1s 6ms/step - loss: 207.5992 - val_loss: 375.5052\n",
      "Epoch 49/100\n",
      "216/216 [==============================] - 1s 6ms/step - loss: 212.2741 - val_loss: 325.0055\n",
      "Epoch 50/100\n",
      "216/216 [==============================] - 1s 6ms/step - loss: 215.9254 - val_loss: 358.2054\n",
      "Epoch 51/100\n",
      "216/216 [==============================] - 1s 6ms/step - loss: 214.2314 - val_loss: 315.9328\n",
      "Epoch 52/100\n",
      "216/216 [==============================] - 1s 6ms/step - loss: 208.7150 - val_loss: 317.4116\n",
      "Epoch 53/100\n",
      "216/216 [==============================] - 1s 6ms/step - loss: 217.8291 - val_loss: 333.8713\n",
      "Epoch 54/100\n",
      "216/216 [==============================] - 1s 6ms/step - loss: 204.9691 - val_loss: 323.5795\n",
      "Epoch 55/100\n",
      "216/216 [==============================] - 1s 6ms/step - loss: 211.0412 - val_loss: 313.0310\n",
      "Epoch 56/100\n",
      "216/216 [==============================] - 1s 6ms/step - loss: 217.2086 - val_loss: 365.3701\n",
      "Epoch 57/100\n",
      "216/216 [==============================] - 1s 6ms/step - loss: 215.0497 - val_loss: 304.1767\n",
      "Epoch 58/100\n",
      "216/216 [==============================] - 1s 6ms/step - loss: 203.0639 - val_loss: 335.9000\n",
      "Epoch 59/100\n",
      "216/216 [==============================] - 1s 6ms/step - loss: 204.2012 - val_loss: 306.9428\n",
      "Epoch 60/100\n",
      "216/216 [==============================] - 1s 6ms/step - loss: 206.7561 - val_loss: 364.1314\n",
      "Epoch 61/100\n",
      "216/216 [==============================] - 1s 6ms/step - loss: 204.1476 - val_loss: 353.5892\n",
      "Epoch 62/100\n",
      "216/216 [==============================] - 1s 6ms/step - loss: 201.9109 - val_loss: 343.1605\n",
      "Epoch 63/100\n",
      "216/216 [==============================] - 1s 6ms/step - loss: 202.2269 - val_loss: 329.7767\n",
      "Epoch 64/100\n",
      "216/216 [==============================] - 1s 6ms/step - loss: 206.0944 - val_loss: 387.1979\n",
      "Epoch 65/100\n",
      "216/216 [==============================] - 1s 6ms/step - loss: 206.3141 - val_loss: 352.6712\n",
      "Epoch 66/100\n",
      "216/216 [==============================] - 1s 6ms/step - loss: 200.7489 - val_loss: 329.5476\n",
      "Epoch 67/100\n",
      "216/216 [==============================] - 1s 6ms/step - loss: 206.9807 - val_loss: 369.8753\n",
      "Epoch 68/100\n",
      "216/216 [==============================] - 1s 6ms/step - loss: 206.1967 - val_loss: 333.5371\n",
      "Epoch 69/100\n",
      "216/216 [==============================] - 1s 6ms/step - loss: 196.8908 - val_loss: 355.2424\n",
      "Epoch 70/100\n",
      "216/216 [==============================] - 1s 6ms/step - loss: 201.0301 - val_loss: 382.8898\n",
      "Epoch 71/100\n",
      "216/216 [==============================] - 1s 6ms/step - loss: 199.7169 - val_loss: 339.6176\n",
      "Epoch 72/100\n",
      "216/216 [==============================] - 1s 6ms/step - loss: 200.5308 - val_loss: 346.9395\n",
      "Epoch 73/100\n",
      "216/216 [==============================] - 1s 6ms/step - loss: 196.0869 - val_loss: 328.7837\n",
      "Epoch 74/100\n",
      "216/216 [==============================] - 1s 6ms/step - loss: 201.4833 - val_loss: 359.6665\n",
      "Epoch 75/100\n",
      "216/216 [==============================] - 1s 6ms/step - loss: 201.3488 - val_loss: 353.1641\n",
      "Epoch 76/100\n",
      "216/216 [==============================] - 1s 6ms/step - loss: 196.5078 - val_loss: 370.6951\n",
      "Epoch 77/100\n",
      "216/216 [==============================] - 1s 6ms/step - loss: 207.0114 - val_loss: 392.5233\n",
      "Epoch 78/100\n",
      "216/216 [==============================] - 1s 6ms/step - loss: 200.7327 - val_loss: 325.8327\n",
      "Epoch 79/100\n",
      "216/216 [==============================] - 1s 6ms/step - loss: 194.2967 - val_loss: 348.4283\n",
      "Epoch 80/100\n",
      "216/216 [==============================] - 1s 6ms/step - loss: 203.4148 - val_loss: 354.7126\n",
      "Epoch 81/100\n",
      "216/216 [==============================] - 1s 6ms/step - loss: 199.7089 - val_loss: 356.1432\n",
      "Epoch 82/100\n",
      "216/216 [==============================] - 1s 6ms/step - loss: 199.2991 - val_loss: 364.7842\n",
      "Epoch 83/100\n",
      "216/216 [==============================] - 1s 6ms/step - loss: 202.4832 - val_loss: 330.8960\n",
      "Epoch 84/100\n",
      "216/216 [==============================] - 1s 7ms/step - loss: 209.1731 - val_loss: 402.5600\n",
      "Epoch 85/100\n",
      "216/216 [==============================] - 1s 6ms/step - loss: 200.8663 - val_loss: 329.6240\n",
      "Epoch 86/100\n",
      "216/216 [==============================] - 1s 6ms/step - loss: 200.3926 - val_loss: 375.2903\n",
      "Epoch 87/100\n",
      "216/216 [==============================] - 1s 6ms/step - loss: 196.8994 - val_loss: 375.8981\n",
      "Epoch 88/100\n",
      "216/216 [==============================] - 1s 6ms/step - loss: 200.0909 - val_loss: 392.2924\n",
      "Epoch 89/100\n",
      "216/216 [==============================] - 1s 6ms/step - loss: 197.3289 - val_loss: 383.9358\n",
      "Epoch 90/100\n",
      "216/216 [==============================] - 1s 6ms/step - loss: 191.3900 - val_loss: 345.1265\n",
      "Epoch 91/100\n",
      "216/216 [==============================] - 1s 6ms/step - loss: 202.7486 - val_loss: 350.5004\n",
      "Epoch 92/100\n",
      "216/216 [==============================] - 1s 6ms/step - loss: 201.6386 - val_loss: 351.0946\n",
      "Epoch 93/100\n",
      "216/216 [==============================] - 1s 6ms/step - loss: 197.1423 - val_loss: 334.8535\n",
      "Epoch 94/100\n",
      "216/216 [==============================] - 1s 6ms/step - loss: 198.0698 - val_loss: 391.8891\n",
      "Epoch 95/100\n",
      "216/216 [==============================] - 1s 6ms/step - loss: 201.9261 - val_loss: 371.3449\n",
      "Epoch 96/100\n",
      "216/216 [==============================] - 1s 6ms/step - loss: 198.4862 - val_loss: 373.7365\n",
      "Epoch 97/100\n",
      "216/216 [==============================] - 1s 6ms/step - loss: 194.1841 - val_loss: 381.1783\n",
      "Epoch 98/100\n",
      "216/216 [==============================] - 1s 6ms/step - loss: 194.7274 - val_loss: 387.7342\n",
      "Epoch 99/100\n",
      "216/216 [==============================] - 1s 6ms/step - loss: 208.6987 - val_loss: 353.4800\n",
      "Epoch 100/100\n",
      "216/216 [==============================] - 1s 6ms/step - loss: 196.7502 - val_loss: 347.9162\n"
     ]
    }
   ],
   "source": [
    "history = model.fit(\n",
    "    x=X_train,y=y_train,batch_size=25,epochs=100,validation_data=(X_val,y_val)\n",
    ")"
   ]
  },
  {
   "cell_type": "code",
   "execution_count": 110,
   "metadata": {},
   "outputs": [
    {
     "name": "stderr",
     "output_type": "stream",
     "text": [
      "/Users/sprietthibault/miniforge3/envs/tf/lib/python3.8/site-packages/tensorflow/python/keras/engine/training.py:2325: UserWarning:\n",
      "\n",
      "`Model.state_updates` will be removed in a future version. This property should not be used in TensorFlow 2.0, as `updates` are applied automatically.\n",
      "\n",
      "/Users/sprietthibault/miniforge3/envs/tf/lib/python3.8/site-packages/tensorflow/python/keras/engine/base_layer.py:1397: UserWarning:\n",
      "\n",
      "`layer.updates` will be removed in a future version. This property should not be used in TensorFlow 2.0, as `updates` are applied automatically.\n",
      "\n"
     ]
    },
    {
     "name": "stdout",
     "output_type": "stream",
     "text": [
      "WARNING:tensorflow:FOR KERAS USERS: The object that you are saving contains one or more Keras models or layers. If you are loading the SavedModel with `tf.keras.models.load_model`, continue reading (otherwise, you may ignore the following instructions). Please change your code to save with `tf.keras.models.save_model` or `model.save`, and confirm that the file \"keras.metadata\" exists in the export directory. In the future, Keras will only load the SavedModels that have this file. In other words, `tf.saved_model.save` will no longer write SavedModels that can be recovered as Keras models (this will apply in TF 2.5).\n",
      "\n",
      "FOR DEVS: If you are overwriting _tracking_metadata in your class, this property has been used to save metadata in the SavedModel. The metadta field will be deprecated soon, so please move the metadata to a different file.\n",
      "INFO:tensorflow:Assets written to: models/transfered/assets\n"
     ]
    }
   ],
   "source": [
    "model.save('models/transfered')"
   ]
  },
  {
   "cell_type": "code",
   "execution_count": 81,
   "metadata": {},
   "outputs": [
    {
     "data": {
      "application/vnd.plotly.v1+json": {
       "config": {
        "plotlyServerURL": "https://plot.ly"
       },
       "data": [
        {
         "hovertemplate": "variable=loss<br>index=%{x}<br>value=%{y}<extra></extra>",
         "legendgroup": "loss",
         "line": {
          "color": "#636efa",
          "dash": "solid"
         },
         "marker": {
          "symbol": "circle"
         },
         "mode": "lines",
         "name": "loss",
         "orientation": "v",
         "showlegend": true,
         "type": "scatter",
         "x": [
          0,
          1,
          2,
          3,
          4,
          5,
          6,
          7,
          8,
          9,
          10,
          11,
          12,
          13,
          14,
          15,
          16,
          17,
          18,
          19,
          20,
          21,
          22,
          23,
          24,
          25,
          26,
          27,
          28,
          29,
          30,
          31,
          32,
          33,
          34,
          35,
          36,
          37,
          38,
          39,
          40,
          41,
          42,
          43,
          44,
          45,
          46,
          47,
          48,
          49,
          50,
          51,
          52,
          53,
          54,
          55,
          56,
          57,
          58,
          59,
          60,
          61,
          62,
          63,
          64,
          65,
          66,
          67,
          68,
          69,
          70,
          71,
          72,
          73,
          74,
          75,
          76,
          77,
          78,
          79,
          80,
          81,
          82,
          83,
          84,
          85,
          86,
          87,
          88,
          89,
          90,
          91,
          92,
          93,
          94,
          95,
          96,
          97,
          98,
          99
         ],
         "xaxis": "x",
         "y": [
          840.5757446289062,
          808.9954833984375,
          802.0680541992188,
          799.6046752929688,
          675.8956298828125,
          621.2255249023438,
          513.19482421875,
          443.0039367675781,
          439.7818298339844,
          434.0459289550781,
          425.8258972167969,
          393.2304992675781,
          344.4324645996094,
          291.7587585449219,
          256.0105895996094,
          248.98138427734375,
          255.7141571044922,
          246.38829040527344,
          241.2958221435547,
          241.13058471679688,
          238.20755004882812,
          240.70864868164062,
          243.5874786376953,
          233.56787109375,
          226.65489196777344,
          230.42332458496094,
          233.61099243164062,
          232.97042846679688,
          225.33360290527344,
          229.5763702392578,
          223.0948028564453,
          221.0227813720703,
          217.0548858642578,
          217.73265075683594,
          221.15550231933594,
          216.33692932128906,
          216.67666625976562,
          215.54737854003906,
          215.7872314453125,
          214.91346740722656,
          216.1561279296875,
          213.37110900878906,
          221.63336181640625,
          215.95542907714844,
          211.05224609375,
          217.52076721191406,
          216.4491424560547,
          212.503173828125,
          210.9366912841797,
          212.0935821533203,
          216.65966796875,
          210.29568481445312,
          211.50193786621094,
          206.9185791015625,
          214.6887664794922,
          211.86793518066406,
          211.59649658203125,
          210.25784301757812,
          204.44317626953125,
          206.01226806640625,
          203.79920959472656,
          205.54441833496094,
          201.84359741210938,
          204.71200561523438,
          202.7270965576172,
          202.9031982421875,
          205.377685546875,
          205.32623291015625,
          198.74171447753906,
          202.13150024414062,
          198.49513244628906,
          200.18678283691406,
          196.76148986816406,
          207.1065216064453,
          199.75732421875,
          197.78343200683594,
          206.46124267578125,
          199.4303741455078,
          196.24119567871094,
          202.6746063232422,
          198.88125610351562,
          199.30311584472656,
          201.81321716308594,
          203.93017578125,
          197.3562469482422,
          199.6577911376953,
          197.336669921875,
          196.21878051757812,
          196.88113403320312,
          198.105712890625,
          197.0075225830078,
          196.2909698486328,
          194.5773468017578,
          197.4680633544922,
          198.21417236328125,
          197.38621520996094,
          194.09317016601562,
          196.64801025390625,
          200.20655822753906,
          194.87937927246094
         ],
         "yaxis": "y"
        },
        {
         "hovertemplate": "variable=val_loss<br>index=%{x}<br>value=%{y}<extra></extra>",
         "legendgroup": "val_loss",
         "line": {
          "color": "#EF553B",
          "dash": "solid"
         },
         "marker": {
          "symbol": "circle"
         },
         "mode": "lines",
         "name": "val_loss",
         "orientation": "v",
         "showlegend": true,
         "type": "scatter",
         "x": [
          0,
          1,
          2,
          3,
          4,
          5,
          6,
          7,
          8,
          9,
          10,
          11,
          12,
          13,
          14,
          15,
          16,
          17,
          18,
          19,
          20,
          21,
          22,
          23,
          24,
          25,
          26,
          27,
          28,
          29,
          30,
          31,
          32,
          33,
          34,
          35,
          36,
          37,
          38,
          39,
          40,
          41,
          42,
          43,
          44,
          45,
          46,
          47,
          48,
          49,
          50,
          51,
          52,
          53,
          54,
          55,
          56,
          57,
          58,
          59,
          60,
          61,
          62,
          63,
          64,
          65,
          66,
          67,
          68,
          69,
          70,
          71,
          72,
          73,
          74,
          75,
          76,
          77,
          78,
          79,
          80,
          81,
          82,
          83,
          84,
          85,
          86,
          87,
          88,
          89,
          90,
          91,
          92,
          93,
          94,
          95,
          96,
          97,
          98,
          99
         ],
         "xaxis": "x",
         "y": [
          875.7277221679688,
          829.2651977539062,
          861.2899780273438,
          905.6493530273438,
          784.5983276367188,
          700.5961303710938,
          487.1414489746094,
          445.1917419433594,
          432.8631896972656,
          475.84405517578125,
          478.61639404296875,
          353.3020935058594,
          378.7164611816406,
          343.8242492675781,
          269.4574279785156,
          358.6282958984375,
          290.1449890136719,
          328.30029296875,
          313.2462463378906,
          327.6866455078125,
          289.946044921875,
          294.69818115234375,
          358.1988830566406,
          374.3484191894531,
          276.9130554199219,
          349.4584045410156,
          434.5818176269531,
          327.28619384765625,
          389.2624816894531,
          280.2066955566406,
          339.20135498046875,
          327.18731689453125,
          376.4732971191406,
          300.8540954589844,
          359.0430603027344,
          316.3242492675781,
          342.42462158203125,
          301.96026611328125,
          364.3360595703125,
          308.9593811035156,
          283.8247375488281,
          304.55328369140625,
          401.55010986328125,
          350.0811462402344,
          315.97039794921875,
          313.1124572753906,
          345.8703308105469,
          375.5051574707031,
          325.0054626464844,
          358.20538330078125,
          315.9328308105469,
          317.41162109375,
          333.87127685546875,
          323.5794677734375,
          313.0310363769531,
          365.3700866699219,
          304.17669677734375,
          335.89996337890625,
          306.9427795410156,
          364.1313781738281,
          353.58917236328125,
          343.1605224609375,
          329.7767333984375,
          387.1979064941406,
          352.6711730957031,
          329.547607421875,
          369.8752746582031,
          333.537109375,
          355.242431640625,
          382.88983154296875,
          339.6175537109375,
          346.939453125,
          328.7837219238281,
          359.6664733886719,
          353.1640930175781,
          370.6950988769531,
          392.5233154296875,
          325.8327331542969,
          348.42828369140625,
          354.7126159667969,
          356.14324951171875,
          364.7841796875,
          330.8960266113281,
          402.5600280761719,
          329.6240234375,
          375.2903137207031,
          375.89813232421875,
          392.2924499511719,
          383.9358215332031,
          345.12652587890625,
          350.5003662109375,
          351.0946044921875,
          334.8535461425781,
          391.88909912109375,
          371.3449401855469,
          373.7365417480469,
          381.17828369140625,
          387.7342224121094,
          353.48004150390625,
          347.9161682128906
         ],
         "yaxis": "y"
        }
       ],
       "layout": {
        "legend": {
         "title": {
          "text": "variable"
         },
         "tracegroupgap": 0
        },
        "margin": {
         "t": 60
        },
        "template": {
         "data": {
          "bar": [
           {
            "error_x": {
             "color": "#2a3f5f"
            },
            "error_y": {
             "color": "#2a3f5f"
            },
            "marker": {
             "line": {
              "color": "#E5ECF6",
              "width": 0.5
             },
             "pattern": {
              "fillmode": "overlay",
              "size": 10,
              "solidity": 0.2
             }
            },
            "type": "bar"
           }
          ],
          "barpolar": [
           {
            "marker": {
             "line": {
              "color": "#E5ECF6",
              "width": 0.5
             },
             "pattern": {
              "fillmode": "overlay",
              "size": 10,
              "solidity": 0.2
             }
            },
            "type": "barpolar"
           }
          ],
          "carpet": [
           {
            "aaxis": {
             "endlinecolor": "#2a3f5f",
             "gridcolor": "white",
             "linecolor": "white",
             "minorgridcolor": "white",
             "startlinecolor": "#2a3f5f"
            },
            "baxis": {
             "endlinecolor": "#2a3f5f",
             "gridcolor": "white",
             "linecolor": "white",
             "minorgridcolor": "white",
             "startlinecolor": "#2a3f5f"
            },
            "type": "carpet"
           }
          ],
          "choropleth": [
           {
            "colorbar": {
             "outlinewidth": 0,
             "ticks": ""
            },
            "type": "choropleth"
           }
          ],
          "contour": [
           {
            "colorbar": {
             "outlinewidth": 0,
             "ticks": ""
            },
            "colorscale": [
             [
              0,
              "#0d0887"
             ],
             [
              0.1111111111111111,
              "#46039f"
             ],
             [
              0.2222222222222222,
              "#7201a8"
             ],
             [
              0.3333333333333333,
              "#9c179e"
             ],
             [
              0.4444444444444444,
              "#bd3786"
             ],
             [
              0.5555555555555556,
              "#d8576b"
             ],
             [
              0.6666666666666666,
              "#ed7953"
             ],
             [
              0.7777777777777778,
              "#fb9f3a"
             ],
             [
              0.8888888888888888,
              "#fdca26"
             ],
             [
              1,
              "#f0f921"
             ]
            ],
            "type": "contour"
           }
          ],
          "contourcarpet": [
           {
            "colorbar": {
             "outlinewidth": 0,
             "ticks": ""
            },
            "type": "contourcarpet"
           }
          ],
          "heatmap": [
           {
            "colorbar": {
             "outlinewidth": 0,
             "ticks": ""
            },
            "colorscale": [
             [
              0,
              "#0d0887"
             ],
             [
              0.1111111111111111,
              "#46039f"
             ],
             [
              0.2222222222222222,
              "#7201a8"
             ],
             [
              0.3333333333333333,
              "#9c179e"
             ],
             [
              0.4444444444444444,
              "#bd3786"
             ],
             [
              0.5555555555555556,
              "#d8576b"
             ],
             [
              0.6666666666666666,
              "#ed7953"
             ],
             [
              0.7777777777777778,
              "#fb9f3a"
             ],
             [
              0.8888888888888888,
              "#fdca26"
             ],
             [
              1,
              "#f0f921"
             ]
            ],
            "type": "heatmap"
           }
          ],
          "heatmapgl": [
           {
            "colorbar": {
             "outlinewidth": 0,
             "ticks": ""
            },
            "colorscale": [
             [
              0,
              "#0d0887"
             ],
             [
              0.1111111111111111,
              "#46039f"
             ],
             [
              0.2222222222222222,
              "#7201a8"
             ],
             [
              0.3333333333333333,
              "#9c179e"
             ],
             [
              0.4444444444444444,
              "#bd3786"
             ],
             [
              0.5555555555555556,
              "#d8576b"
             ],
             [
              0.6666666666666666,
              "#ed7953"
             ],
             [
              0.7777777777777778,
              "#fb9f3a"
             ],
             [
              0.8888888888888888,
              "#fdca26"
             ],
             [
              1,
              "#f0f921"
             ]
            ],
            "type": "heatmapgl"
           }
          ],
          "histogram": [
           {
            "marker": {
             "pattern": {
              "fillmode": "overlay",
              "size": 10,
              "solidity": 0.2
             }
            },
            "type": "histogram"
           }
          ],
          "histogram2d": [
           {
            "colorbar": {
             "outlinewidth": 0,
             "ticks": ""
            },
            "colorscale": [
             [
              0,
              "#0d0887"
             ],
             [
              0.1111111111111111,
              "#46039f"
             ],
             [
              0.2222222222222222,
              "#7201a8"
             ],
             [
              0.3333333333333333,
              "#9c179e"
             ],
             [
              0.4444444444444444,
              "#bd3786"
             ],
             [
              0.5555555555555556,
              "#d8576b"
             ],
             [
              0.6666666666666666,
              "#ed7953"
             ],
             [
              0.7777777777777778,
              "#fb9f3a"
             ],
             [
              0.8888888888888888,
              "#fdca26"
             ],
             [
              1,
              "#f0f921"
             ]
            ],
            "type": "histogram2d"
           }
          ],
          "histogram2dcontour": [
           {
            "colorbar": {
             "outlinewidth": 0,
             "ticks": ""
            },
            "colorscale": [
             [
              0,
              "#0d0887"
             ],
             [
              0.1111111111111111,
              "#46039f"
             ],
             [
              0.2222222222222222,
              "#7201a8"
             ],
             [
              0.3333333333333333,
              "#9c179e"
             ],
             [
              0.4444444444444444,
              "#bd3786"
             ],
             [
              0.5555555555555556,
              "#d8576b"
             ],
             [
              0.6666666666666666,
              "#ed7953"
             ],
             [
              0.7777777777777778,
              "#fb9f3a"
             ],
             [
              0.8888888888888888,
              "#fdca26"
             ],
             [
              1,
              "#f0f921"
             ]
            ],
            "type": "histogram2dcontour"
           }
          ],
          "mesh3d": [
           {
            "colorbar": {
             "outlinewidth": 0,
             "ticks": ""
            },
            "type": "mesh3d"
           }
          ],
          "parcoords": [
           {
            "line": {
             "colorbar": {
              "outlinewidth": 0,
              "ticks": ""
             }
            },
            "type": "parcoords"
           }
          ],
          "pie": [
           {
            "automargin": true,
            "type": "pie"
           }
          ],
          "scatter": [
           {
            "marker": {
             "colorbar": {
              "outlinewidth": 0,
              "ticks": ""
             }
            },
            "type": "scatter"
           }
          ],
          "scatter3d": [
           {
            "line": {
             "colorbar": {
              "outlinewidth": 0,
              "ticks": ""
             }
            },
            "marker": {
             "colorbar": {
              "outlinewidth": 0,
              "ticks": ""
             }
            },
            "type": "scatter3d"
           }
          ],
          "scattercarpet": [
           {
            "marker": {
             "colorbar": {
              "outlinewidth": 0,
              "ticks": ""
             }
            },
            "type": "scattercarpet"
           }
          ],
          "scattergeo": [
           {
            "marker": {
             "colorbar": {
              "outlinewidth": 0,
              "ticks": ""
             }
            },
            "type": "scattergeo"
           }
          ],
          "scattergl": [
           {
            "marker": {
             "colorbar": {
              "outlinewidth": 0,
              "ticks": ""
             }
            },
            "type": "scattergl"
           }
          ],
          "scattermapbox": [
           {
            "marker": {
             "colorbar": {
              "outlinewidth": 0,
              "ticks": ""
             }
            },
            "type": "scattermapbox"
           }
          ],
          "scatterpolar": [
           {
            "marker": {
             "colorbar": {
              "outlinewidth": 0,
              "ticks": ""
             }
            },
            "type": "scatterpolar"
           }
          ],
          "scatterpolargl": [
           {
            "marker": {
             "colorbar": {
              "outlinewidth": 0,
              "ticks": ""
             }
            },
            "type": "scatterpolargl"
           }
          ],
          "scatterternary": [
           {
            "marker": {
             "colorbar": {
              "outlinewidth": 0,
              "ticks": ""
             }
            },
            "type": "scatterternary"
           }
          ],
          "surface": [
           {
            "colorbar": {
             "outlinewidth": 0,
             "ticks": ""
            },
            "colorscale": [
             [
              0,
              "#0d0887"
             ],
             [
              0.1111111111111111,
              "#46039f"
             ],
             [
              0.2222222222222222,
              "#7201a8"
             ],
             [
              0.3333333333333333,
              "#9c179e"
             ],
             [
              0.4444444444444444,
              "#bd3786"
             ],
             [
              0.5555555555555556,
              "#d8576b"
             ],
             [
              0.6666666666666666,
              "#ed7953"
             ],
             [
              0.7777777777777778,
              "#fb9f3a"
             ],
             [
              0.8888888888888888,
              "#fdca26"
             ],
             [
              1,
              "#f0f921"
             ]
            ],
            "type": "surface"
           }
          ],
          "table": [
           {
            "cells": {
             "fill": {
              "color": "#EBF0F8"
             },
             "line": {
              "color": "white"
             }
            },
            "header": {
             "fill": {
              "color": "#C8D4E3"
             },
             "line": {
              "color": "white"
             }
            },
            "type": "table"
           }
          ]
         },
         "layout": {
          "annotationdefaults": {
           "arrowcolor": "#2a3f5f",
           "arrowhead": 0,
           "arrowwidth": 1
          },
          "autotypenumbers": "strict",
          "coloraxis": {
           "colorbar": {
            "outlinewidth": 0,
            "ticks": ""
           }
          },
          "colorscale": {
           "diverging": [
            [
             0,
             "#8e0152"
            ],
            [
             0.1,
             "#c51b7d"
            ],
            [
             0.2,
             "#de77ae"
            ],
            [
             0.3,
             "#f1b6da"
            ],
            [
             0.4,
             "#fde0ef"
            ],
            [
             0.5,
             "#f7f7f7"
            ],
            [
             0.6,
             "#e6f5d0"
            ],
            [
             0.7,
             "#b8e186"
            ],
            [
             0.8,
             "#7fbc41"
            ],
            [
             0.9,
             "#4d9221"
            ],
            [
             1,
             "#276419"
            ]
           ],
           "sequential": [
            [
             0,
             "#0d0887"
            ],
            [
             0.1111111111111111,
             "#46039f"
            ],
            [
             0.2222222222222222,
             "#7201a8"
            ],
            [
             0.3333333333333333,
             "#9c179e"
            ],
            [
             0.4444444444444444,
             "#bd3786"
            ],
            [
             0.5555555555555556,
             "#d8576b"
            ],
            [
             0.6666666666666666,
             "#ed7953"
            ],
            [
             0.7777777777777778,
             "#fb9f3a"
            ],
            [
             0.8888888888888888,
             "#fdca26"
            ],
            [
             1,
             "#f0f921"
            ]
           ],
           "sequentialminus": [
            [
             0,
             "#0d0887"
            ],
            [
             0.1111111111111111,
             "#46039f"
            ],
            [
             0.2222222222222222,
             "#7201a8"
            ],
            [
             0.3333333333333333,
             "#9c179e"
            ],
            [
             0.4444444444444444,
             "#bd3786"
            ],
            [
             0.5555555555555556,
             "#d8576b"
            ],
            [
             0.6666666666666666,
             "#ed7953"
            ],
            [
             0.7777777777777778,
             "#fb9f3a"
            ],
            [
             0.8888888888888888,
             "#fdca26"
            ],
            [
             1,
             "#f0f921"
            ]
           ]
          },
          "colorway": [
           "#636efa",
           "#EF553B",
           "#00cc96",
           "#ab63fa",
           "#FFA15A",
           "#19d3f3",
           "#FF6692",
           "#B6E880",
           "#FF97FF",
           "#FECB52"
          ],
          "font": {
           "color": "#2a3f5f"
          },
          "geo": {
           "bgcolor": "white",
           "lakecolor": "white",
           "landcolor": "#E5ECF6",
           "showlakes": true,
           "showland": true,
           "subunitcolor": "white"
          },
          "hoverlabel": {
           "align": "left"
          },
          "hovermode": "closest",
          "mapbox": {
           "style": "light"
          },
          "paper_bgcolor": "white",
          "plot_bgcolor": "#E5ECF6",
          "polar": {
           "angularaxis": {
            "gridcolor": "white",
            "linecolor": "white",
            "ticks": ""
           },
           "bgcolor": "#E5ECF6",
           "radialaxis": {
            "gridcolor": "white",
            "linecolor": "white",
            "ticks": ""
           }
          },
          "scene": {
           "xaxis": {
            "backgroundcolor": "#E5ECF6",
            "gridcolor": "white",
            "gridwidth": 2,
            "linecolor": "white",
            "showbackground": true,
            "ticks": "",
            "zerolinecolor": "white"
           },
           "yaxis": {
            "backgroundcolor": "#E5ECF6",
            "gridcolor": "white",
            "gridwidth": 2,
            "linecolor": "white",
            "showbackground": true,
            "ticks": "",
            "zerolinecolor": "white"
           },
           "zaxis": {
            "backgroundcolor": "#E5ECF6",
            "gridcolor": "white",
            "gridwidth": 2,
            "linecolor": "white",
            "showbackground": true,
            "ticks": "",
            "zerolinecolor": "white"
           }
          },
          "shapedefaults": {
           "line": {
            "color": "#2a3f5f"
           }
          },
          "ternary": {
           "aaxis": {
            "gridcolor": "white",
            "linecolor": "white",
            "ticks": ""
           },
           "baxis": {
            "gridcolor": "white",
            "linecolor": "white",
            "ticks": ""
           },
           "bgcolor": "#E5ECF6",
           "caxis": {
            "gridcolor": "white",
            "linecolor": "white",
            "ticks": ""
           }
          },
          "title": {
           "x": 0.05
          },
          "xaxis": {
           "automargin": true,
           "gridcolor": "white",
           "linecolor": "white",
           "ticks": "",
           "title": {
            "standoff": 15
           },
           "zerolinecolor": "white",
           "zerolinewidth": 2
          },
          "yaxis": {
           "automargin": true,
           "gridcolor": "white",
           "linecolor": "white",
           "ticks": "",
           "title": {
            "standoff": 15
           },
           "zerolinecolor": "white",
           "zerolinewidth": 2
          }
         }
        },
        "xaxis": {
         "anchor": "y",
         "domain": [
          0,
          1
         ],
         "title": {
          "text": "index"
         }
        },
        "yaxis": {
         "anchor": "x",
         "domain": [
          0,
          1
         ],
         "title": {
          "text": "value"
         }
        }
       }
      }
     },
     "metadata": {},
     "output_type": "display_data"
    }
   ],
   "source": [
    "history_df = pd.DataFrame(data=history.history)\n",
    "fig = px.line(history_df,y=[\"loss\",\"val_loss\"])\n",
    "fig.show()"
   ]
  },
  {
   "cell_type": "code",
   "execution_count": 86,
   "metadata": {},
   "outputs": [],
   "source": [
    "y_pred = model.predict(y_test)\n",
    "y_test_flatten = y_test.reshape(-1)\n",
    "y_pred_flatten = y_pred.reshape(-1)"
   ]
  },
  {
   "cell_type": "code",
   "execution_count": 109,
   "metadata": {},
   "outputs": [
    {
     "name": "stdout",
     "output_type": "stream",
     "text": [
      "Model performance to predict coordinates 0\n",
      "\taccuracy : 94.3 %\n",
      "\tprecision : 94.0 %\n",
      "\trecall : 81.4 %\n"
     ]
    }
   ],
   "source": [
    "TP = sum((y_pred_flatten == 0) & (y_test_flatten == 0))\n",
    "TN = sum((y_pred_flatten != 0) & (y_test_flatten != 0))\n",
    "FP = sum((y_pred_flatten == 0) & (y_test_flatten != 0))\n",
    "FN = sum((y_pred_flatten != 0) & (y_test_flatten == 0))\n",
    "\n",
    "p = TP  / (TP+FP)\n",
    "r = TP / (TP + FN)\n",
    "a = (TP + TN) / (TP+TN+FP+FN)\n",
    "\n",
    "print(\"Model performance to predict coordinates 0\")\n",
    "print(f\"\\taccuracy : {a*100:.1f} %\")\n",
    "print(f\"\\tprecision : {p*100:.1f} %\")\n",
    "print(f\"\\trecall : {r*100:.1f} %\")"
   ]
  }
 ],
 "metadata": {
  "interpreter": {
   "hash": "0bb04f440bdde480dddfb2cc51fa2036a99549bd1f95d6dc040ab4c6bec6967f"
  },
  "kernelspec": {
   "display_name": "Python 3.8.12 64-bit ('tf': conda)",
   "language": "python",
   "name": "python3"
  },
  "language_info": {
   "codemirror_mode": {
    "name": "ipython",
    "version": 3
   },
   "file_extension": ".py",
   "mimetype": "text/x-python",
   "name": "python",
   "nbconvert_exporter": "python",
   "pygments_lexer": "ipython3",
   "version": "3.8.12"
  },
  "orig_nbformat": 4
 },
 "nbformat": 4,
 "nbformat_minor": 2
}
