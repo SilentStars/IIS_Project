{
 "cells": [
  {
   "cell_type": "code",
   "execution_count": 1,
   "metadata": {},
   "outputs": [],
   "source": [
    "import pandas as pd\n",
    "import os\n",
    "from glob import glob\n",
    "import numpy as np\n",
    "from sklearn.model_selection import train_test_split\n",
    "from tensorflow.keras.models import Sequential\n",
    "from tensorflow.keras.layers import Input,Dense\n",
    "from tensorflow.keras.optimizers import Adamax\n",
    "from tensorflow.keras.losses import mean_squared_error\n",
    "from tensorflow.keras.callbacks import EarlyStopping\n",
    "import tensorflow.keras.backend as K\n",
    "import plotly.express as px\n",
    "from plotly.subplots import make_subplots\n",
    "import plotly.graph_objects as go\n",
    "from tensorflow.keras.models import save_model"
   ]
  },
  {
   "cell_type": "code",
   "execution_count": 2,
   "metadata": {},
   "outputs": [
    {
     "name": "stderr",
     "output_type": "stream",
     "text": [
      "/Users/sprietthibault/miniforge3/envs/tf/lib/python3.8/site-packages/numpy/lib/arraysetops.py:583: FutureWarning: elementwise comparison failed; returning scalar instead, but in the future will perform elementwise comparison\n",
      "  mask |= (ar1 == a)\n"
     ]
    },
    {
     "name": "stdout",
     "output_type": "stream",
     "text": [
      "1008500 rows in mp_annot\n",
      "1074906 rows in true_annot\n"
     ]
    }
   ],
   "source": [
    "mp_annot = pd.read_csv('mp_annotations.csv',index_col=0)\n",
    "print(f\"{mp_annot.shape[0]} rows in mp_annot\")\n",
    "files = glob(f\"{os.pardir}{os.sep}course_dataset{os.sep}ASL*{os.sep}annotations.csv\")\n",
    "true_annot = pd.concat([pd.read_csv(f).set_index('ID') for f in files],ignore_index=True)\n",
    "true_annot.drop('person_idx',axis=1,inplace=True)\n",
    "print(f\"{true_annot.shape[0]} rows in true_annot\")\n",
    "true_annot.to_csv('true_annotations.csv')"
   ]
  },
  {
   "cell_type": "code",
   "execution_count": 3,
   "metadata": {},
   "outputs": [],
   "source": [
    "merged = pd.merge(mp_annot,true_annot,on=[\"frame\",\"gesture\",\"joint\",\"video_idx\"])"
   ]
  },
  {
   "cell_type": "code",
   "execution_count": 4,
   "metadata": {},
   "outputs": [],
   "source": [
    "X_train,X_val,X_test = [],[],[]\n",
    "y_train,y_val,y_test = [],[],[]\n",
    "\n",
    "\n",
    "for label in merged.gesture.unique():\n",
    "    df = merged.loc[merged.gesture == label].copy()\n",
    "    video_idx = df.video_idx.unique()\n",
    "    train,test = train_test_split(video_idx,test_size=.2)\n",
    "    train,val = train_test_split(train,test_size=.2)\n",
    "    for idx in video_idx:\n",
    "        frames = df.loc[df.video_idx == idx]\n",
    "        coordinates_X = frames[[\"x_x\",\"y_x\"]].to_numpy().reshape(len(frames.frame.unique()),40).tolist()\n",
    "        coordinates_y = frames[[\"x_y\",\"y_y\"]].to_numpy().reshape(len(frames.frame.unique()),40).tolist()\n",
    "        if idx in train:\n",
    "            X_train+= coordinates_X\n",
    "            y_train+= coordinates_y\n",
    "        elif idx in val:\n",
    "            X_val+= coordinates_X\n",
    "            y_val+= coordinates_y\n",
    "\n",
    "        else:\n",
    "            assert idx in test\n",
    "            X_test+= coordinates_X\n",
    "            y_test+= coordinates_y\n",
    "\n",
    "X_train,X_val,X_test = np.array(X_train),np.array(X_val),np.array(X_test)\n",
    "y_train,y_val,y_test = np.array(y_train),np.array(y_val),np.array(y_test)"
   ]
  },
  {
   "cell_type": "code",
   "execution_count": 5,
   "metadata": {},
   "outputs": [],
   "source": [
    "def euclide_distance_loss(y_true, y_pred):\n",
    "    \"\"\"\n",
    "    Euclidean distance loss\n",
    "    https://en.wikipedia.org/wiki/Euclidean_distance\n",
    "    :param y_true: TensorFlow/Theano tensor\n",
    "    :param y_pred: TensorFlow/Theano tensor of the same shape as y_true\n",
    "    :return: float\n",
    "    \"\"\"\n",
    "    return K.sqrt(K.sum(K.square(y_pred - y_true), axis=-1))\n",
    "\n",
    "model = Sequential(\n",
    "    layers=[\n",
    "        Input(shape=(40,)),\n",
    "        Dense(1024),\n",
    "        Dense(1024),\n",
    "        Dense(1024),\n",
    "        Dense(1024),\n",
    "        Dense(40,activation='relu')\n",
    "    ]\n",
    ")\n",
    "model.compile(optimizer=Adamax(learning_rate=1e-4),loss=euclide_distance_loss)\n",
    "earlyStop = EarlyStopping(\n",
    "    monitor='val_loss',\n",
    "    min_delta=1e-3,\n",
    "    patience=5\n",
    ")"
   ]
  },
  {
   "cell_type": "code",
   "execution_count": 6,
   "metadata": {},
   "outputs": [
    {
     "name": "stdout",
     "output_type": "stream",
     "text": [
      "Epoch 1/100\n",
      "1257/1257 [==============================] - 8s 6ms/step - loss: 764.2809 - val_loss: 584.6974\n",
      "Epoch 2/100\n",
      "1257/1257 [==============================] - 8s 6ms/step - loss: 458.8076 - val_loss: 572.6445\n",
      "Epoch 3/100\n",
      "1257/1257 [==============================] - 8s 6ms/step - loss: 449.8097 - val_loss: 574.2820\n",
      "Epoch 4/100\n",
      "1257/1257 [==============================] - 7s 6ms/step - loss: 445.7199 - val_loss: 579.6711\n",
      "Epoch 5/100\n",
      "1257/1257 [==============================] - 9s 7ms/step - loss: 439.4099 - val_loss: 567.5977\n",
      "Epoch 6/100\n",
      "1257/1257 [==============================] - 8s 7ms/step - loss: 434.8147 - val_loss: 574.3102\n",
      "Epoch 7/100\n",
      "1257/1257 [==============================] - 8s 7ms/step - loss: 437.5409 - val_loss: 573.8724\n",
      "Epoch 8/100\n",
      "1257/1257 [==============================] - 8s 6ms/step - loss: 434.5787 - val_loss: 583.6911\n",
      "Epoch 9/100\n",
      "1257/1257 [==============================] - 9s 7ms/step - loss: 433.4209 - val_loss: 571.7007\n",
      "Epoch 10/100\n",
      "1257/1257 [==============================] - 10s 8ms/step - loss: 430.4216 - val_loss: 567.9928\n"
     ]
    }
   ],
   "source": [
    "history = model.fit(\n",
    "    x=X_train,y=y_train,batch_size=25,epochs=100,validation_data=(X_val,y_val),callbacks=[earlyStop]\n",
    ")"
   ]
  },
  {
   "cell_type": "code",
   "execution_count": 31,
   "metadata": {},
   "outputs": [
    {
     "name": "stdout",
     "output_type": "stream",
     "text": [
      "WARNING:tensorflow:FOR KERAS USERS: The object that you are saving contains one or more Keras models or layers. If you are loading the SavedModel with `tf.keras.models.load_model`, continue reading (otherwise, you may ignore the following instructions). Please change your code to save with `tf.keras.models.save_model` or `model.save`, and confirm that the file \"keras.metadata\" exists in the export directory. In the future, Keras will only load the SavedModels that have this file. In other words, `tf.saved_model.save` will no longer write SavedModels that can be recovered as Keras models (this will apply in TF 2.5).\n",
      "\n",
      "FOR DEVS: If you are overwriting _tracking_metadata in your class, this property has been used to save metadata in the SavedModel. The metadta field will be deprecated soon, so please move the metadata to a different file.\n"
     ]
    },
    {
     "name": "stderr",
     "output_type": "stream",
     "text": [
      "/Users/sprietthibault/miniforge3/envs/tf/lib/python3.8/site-packages/tensorflow/python/keras/engine/training.py:2325: UserWarning:\n",
      "\n",
      "`Model.state_updates` will be removed in a future version. This property should not be used in TensorFlow 2.0, as `updates` are applied automatically.\n",
      "\n",
      "/Users/sprietthibault/miniforge3/envs/tf/lib/python3.8/site-packages/tensorflow/python/keras/engine/base_layer.py:1397: UserWarning:\n",
      "\n",
      "`layer.updates` will be removed in a future version. This property should not be used in TensorFlow 2.0, as `updates` are applied automatically.\n",
      "\n"
     ]
    },
    {
     "name": "stdout",
     "output_type": "stream",
     "text": [
      "INFO:tensorflow:Assets written to: models/transfere_test/assets\n"
     ]
    }
   ],
   "source": [
    "save_model(model,'models/transfered_euclide')"
   ]
  },
  {
   "cell_type": "code",
   "execution_count": 23,
   "metadata": {},
   "outputs": [
    {
     "data": {
      "application/vnd.plotly.v1+json": {
       "config": {
        "plotlyServerURL": "https://plot.ly"
       },
       "data": [
        {
         "hovertemplate": "variable=loss<br>index=%{x}<br>value=%{y}<extra></extra>",
         "legendgroup": "loss",
         "line": {
          "color": "#636efa",
          "dash": "solid"
         },
         "marker": {
          "symbol": "circle"
         },
         "mode": "lines",
         "name": "loss",
         "orientation": "v",
         "showlegend": true,
         "type": "scatter",
         "x": [
          0,
          1,
          2,
          3,
          4,
          5,
          6,
          7,
          8,
          9,
          10,
          11,
          12,
          13,
          14,
          15,
          16,
          17,
          18,
          19,
          20,
          21,
          22,
          23,
          24,
          25,
          26,
          27,
          28,
          29,
          30,
          31,
          32,
          33,
          34,
          35,
          36,
          37,
          38,
          39,
          40,
          41,
          42,
          43,
          44,
          45,
          46,
          47,
          48,
          49,
          50,
          51,
          52,
          53,
          54,
          55,
          56,
          57,
          58,
          59,
          60,
          61,
          62,
          63,
          64,
          65,
          66,
          67,
          68,
          69,
          70,
          71,
          72,
          73,
          74,
          75,
          76,
          77,
          78,
          79,
          80,
          81,
          82,
          83,
          84,
          85,
          86,
          87,
          88,
          89,
          90,
          91,
          92,
          93,
          94,
          95,
          96,
          97,
          98,
          99
         ],
         "xaxis": "x",
         "y": [
          779.0128173828125,
          655.44580078125,
          488.7581481933594,
          483.19476318359375,
          480.3010559082031,
          478.227783203125,
          476.7875671386719,
          473.7107238769531,
          472.0587463378906,
          470.43548583984375,
          467.86798095703125,
          468.41143798828125,
          467.5885925292969,
          464.5658264160156,
          465.1804504394531,
          464.0289611816406,
          463.46337890625,
          462.1531066894531,
          461.4451599121094,
          461.5615234375,
          458.7578125,
          458.4253234863281,
          457.9598388671875,
          457.72503662109375,
          457.129638671875,
          456.9587707519531,
          457.236083984375,
          428.1306457519531,
          426.4372253417969,
          425.8540344238281,
          424.84503173828125,
          423.46160888671875,
          424.6683349609375,
          424.2590026855469,
          422.55718994140625,
          422.0318908691406,
          422.673828125,
          420.7209167480469,
          422.9600524902344,
          422.8689270019531,
          421.2834167480469,
          421.73236083984375,
          419.9458312988281,
          420.7709655761719,
          419.83062744140625,
          421.3580627441406,
          420.8158874511719,
          419.5920104980469,
          419.90570068359375,
          420.16436767578125,
          418.7992858886719,
          419.3497009277344,
          419.20648193359375,
          417.75018310546875,
          418.6811828613281,
          417.9183654785156,
          418.72784423828125,
          416.9924011230469,
          418.45269775390625,
          417.668701171875,
          417.36572265625,
          418.04620361328125,
          417.1649169921875,
          417.8418884277344,
          417.87628173828125,
          417.11138916015625,
          416.8800048828125,
          417.456298828125,
          416.7750244140625,
          416.5740051269531,
          416.232666015625,
          416.9363708496094,
          416.1408386230469,
          416.0166931152344,
          417.3691711425781,
          415.63592529296875,
          416.4373474121094,
          415.8643493652344,
          416.34942626953125,
          415.69976806640625,
          414.7390441894531,
          415.8449401855469,
          415.0388488769531,
          415.1411437988281,
          414.5723876953125,
          414.5174560546875,
          414.75537109375,
          413.2449951171875,
          413.9969787597656,
          413.8248291015625,
          415.225830078125,
          414.2689208984375,
          414.4999084472656,
          413.861328125,
          414.3664855957031,
          413.7557678222656,
          413.4215087890625,
          414.79876708984375,
          414.714111328125,
          414.4310302734375
         ],
         "yaxis": "y"
        },
        {
         "hovertemplate": "variable=val_loss<br>index=%{x}<br>value=%{y}<extra></extra>",
         "legendgroup": "val_loss",
         "line": {
          "color": "#EF553B",
          "dash": "solid"
         },
         "marker": {
          "symbol": "circle"
         },
         "mode": "lines",
         "name": "val_loss",
         "orientation": "v",
         "showlegend": true,
         "type": "scatter",
         "x": [
          0,
          1,
          2,
          3,
          4,
          5,
          6,
          7,
          8,
          9,
          10,
          11,
          12,
          13,
          14,
          15,
          16,
          17,
          18,
          19,
          20,
          21,
          22,
          23,
          24,
          25,
          26,
          27,
          28,
          29,
          30,
          31,
          32,
          33,
          34,
          35,
          36,
          37,
          38,
          39,
          40,
          41,
          42,
          43,
          44,
          45,
          46,
          47,
          48,
          49,
          50,
          51,
          52,
          53,
          54,
          55,
          56,
          57,
          58,
          59,
          60,
          61,
          62,
          63,
          64,
          65,
          66,
          67,
          68,
          69,
          70,
          71,
          72,
          73,
          74,
          75,
          76,
          77,
          78,
          79,
          80,
          81,
          82,
          83,
          84,
          85,
          86,
          87,
          88,
          89,
          90,
          91,
          92,
          93,
          94,
          95,
          96,
          97,
          98,
          99
         ],
         "xaxis": "x",
         "y": [
          768.516845703125,
          608.28271484375,
          566.2850952148438,
          573.993896484375,
          586.2454223632812,
          595.0064697265625,
          565.8870849609375,
          569.6964111328125,
          574.0772705078125,
          576.8855590820312,
          575.9627075195312,
          564.012451171875,
          564.7081909179688,
          572.905517578125,
          565.4734497070312,
          575.6093139648438,
          572.0916137695312,
          563.2791748046875,
          571.5051879882812,
          563.9450073242188,
          599.7994384765625,
          571.1936645507812,
          562.9723510742188,
          565.8448486328125,
          575.8346557617188,
          559.5882568359375,
          574.4917602539062,
          546.4759521484375,
          548.0146484375,
          536.2456665039062,
          537.3090209960938,
          538.4723510742188,
          547.4195556640625,
          542.761474609375,
          543.6954956054688,
          564.2864990234375,
          540.5499877929688,
          549.513671875,
          539.463623046875,
          549.5831298828125,
          555.7453002929688,
          548.39404296875,
          552.2047729492188,
          536.8782958984375,
          540.1051025390625,
          543.540771484375,
          544.9448852539062,
          553.222900390625,
          548.1319580078125,
          538.4058837890625,
          530.0226440429688,
          536.1719360351562,
          537.2891845703125,
          539.0748901367188,
          535.9146118164062,
          537.1277465820312,
          547.475830078125,
          547.5031127929688,
          542.9055786132812,
          539.5797119140625,
          538.6343383789062,
          555.9513549804688,
          538.7330932617188,
          531.0714111328125,
          536.46337890625,
          539.2001953125,
          546.1566162109375,
          528.89501953125,
          538.8206787109375,
          544.8160400390625,
          546.239501953125,
          536.044921875,
          532.60009765625,
          542.5151977539062,
          540.5367431640625,
          530.0499267578125,
          540.8862915039062,
          534.7159423828125,
          549.8672485351562,
          538.0233764648438,
          538.5797119140625,
          528.3504028320312,
          539.16015625,
          534.40625,
          541.4258422851562,
          526.9880981445312,
          532.8716430664062,
          547.1259155273438,
          543.4466552734375,
          539.5010986328125,
          545.5230712890625,
          536.999755859375,
          539.1043090820312,
          536.4915771484375,
          533.1599731445312,
          549.281494140625,
          540.8134765625,
          532.4334716796875,
          539.2073974609375,
          544.5799560546875
         ],
         "yaxis": "y"
        }
       ],
       "layout": {
        "legend": {
         "title": {
          "text": "variable"
         },
         "tracegroupgap": 0
        },
        "margin": {
         "t": 60
        },
        "template": {
         "data": {
          "bar": [
           {
            "error_x": {
             "color": "#2a3f5f"
            },
            "error_y": {
             "color": "#2a3f5f"
            },
            "marker": {
             "line": {
              "color": "#E5ECF6",
              "width": 0.5
             },
             "pattern": {
              "fillmode": "overlay",
              "size": 10,
              "solidity": 0.2
             }
            },
            "type": "bar"
           }
          ],
          "barpolar": [
           {
            "marker": {
             "line": {
              "color": "#E5ECF6",
              "width": 0.5
             },
             "pattern": {
              "fillmode": "overlay",
              "size": 10,
              "solidity": 0.2
             }
            },
            "type": "barpolar"
           }
          ],
          "carpet": [
           {
            "aaxis": {
             "endlinecolor": "#2a3f5f",
             "gridcolor": "white",
             "linecolor": "white",
             "minorgridcolor": "white",
             "startlinecolor": "#2a3f5f"
            },
            "baxis": {
             "endlinecolor": "#2a3f5f",
             "gridcolor": "white",
             "linecolor": "white",
             "minorgridcolor": "white",
             "startlinecolor": "#2a3f5f"
            },
            "type": "carpet"
           }
          ],
          "choropleth": [
           {
            "colorbar": {
             "outlinewidth": 0,
             "ticks": ""
            },
            "type": "choropleth"
           }
          ],
          "contour": [
           {
            "colorbar": {
             "outlinewidth": 0,
             "ticks": ""
            },
            "colorscale": [
             [
              0,
              "#0d0887"
             ],
             [
              0.1111111111111111,
              "#46039f"
             ],
             [
              0.2222222222222222,
              "#7201a8"
             ],
             [
              0.3333333333333333,
              "#9c179e"
             ],
             [
              0.4444444444444444,
              "#bd3786"
             ],
             [
              0.5555555555555556,
              "#d8576b"
             ],
             [
              0.6666666666666666,
              "#ed7953"
             ],
             [
              0.7777777777777778,
              "#fb9f3a"
             ],
             [
              0.8888888888888888,
              "#fdca26"
             ],
             [
              1,
              "#f0f921"
             ]
            ],
            "type": "contour"
           }
          ],
          "contourcarpet": [
           {
            "colorbar": {
             "outlinewidth": 0,
             "ticks": ""
            },
            "type": "contourcarpet"
           }
          ],
          "heatmap": [
           {
            "colorbar": {
             "outlinewidth": 0,
             "ticks": ""
            },
            "colorscale": [
             [
              0,
              "#0d0887"
             ],
             [
              0.1111111111111111,
              "#46039f"
             ],
             [
              0.2222222222222222,
              "#7201a8"
             ],
             [
              0.3333333333333333,
              "#9c179e"
             ],
             [
              0.4444444444444444,
              "#bd3786"
             ],
             [
              0.5555555555555556,
              "#d8576b"
             ],
             [
              0.6666666666666666,
              "#ed7953"
             ],
             [
              0.7777777777777778,
              "#fb9f3a"
             ],
             [
              0.8888888888888888,
              "#fdca26"
             ],
             [
              1,
              "#f0f921"
             ]
            ],
            "type": "heatmap"
           }
          ],
          "heatmapgl": [
           {
            "colorbar": {
             "outlinewidth": 0,
             "ticks": ""
            },
            "colorscale": [
             [
              0,
              "#0d0887"
             ],
             [
              0.1111111111111111,
              "#46039f"
             ],
             [
              0.2222222222222222,
              "#7201a8"
             ],
             [
              0.3333333333333333,
              "#9c179e"
             ],
             [
              0.4444444444444444,
              "#bd3786"
             ],
             [
              0.5555555555555556,
              "#d8576b"
             ],
             [
              0.6666666666666666,
              "#ed7953"
             ],
             [
              0.7777777777777778,
              "#fb9f3a"
             ],
             [
              0.8888888888888888,
              "#fdca26"
             ],
             [
              1,
              "#f0f921"
             ]
            ],
            "type": "heatmapgl"
           }
          ],
          "histogram": [
           {
            "marker": {
             "pattern": {
              "fillmode": "overlay",
              "size": 10,
              "solidity": 0.2
             }
            },
            "type": "histogram"
           }
          ],
          "histogram2d": [
           {
            "colorbar": {
             "outlinewidth": 0,
             "ticks": ""
            },
            "colorscale": [
             [
              0,
              "#0d0887"
             ],
             [
              0.1111111111111111,
              "#46039f"
             ],
             [
              0.2222222222222222,
              "#7201a8"
             ],
             [
              0.3333333333333333,
              "#9c179e"
             ],
             [
              0.4444444444444444,
              "#bd3786"
             ],
             [
              0.5555555555555556,
              "#d8576b"
             ],
             [
              0.6666666666666666,
              "#ed7953"
             ],
             [
              0.7777777777777778,
              "#fb9f3a"
             ],
             [
              0.8888888888888888,
              "#fdca26"
             ],
             [
              1,
              "#f0f921"
             ]
            ],
            "type": "histogram2d"
           }
          ],
          "histogram2dcontour": [
           {
            "colorbar": {
             "outlinewidth": 0,
             "ticks": ""
            },
            "colorscale": [
             [
              0,
              "#0d0887"
             ],
             [
              0.1111111111111111,
              "#46039f"
             ],
             [
              0.2222222222222222,
              "#7201a8"
             ],
             [
              0.3333333333333333,
              "#9c179e"
             ],
             [
              0.4444444444444444,
              "#bd3786"
             ],
             [
              0.5555555555555556,
              "#d8576b"
             ],
             [
              0.6666666666666666,
              "#ed7953"
             ],
             [
              0.7777777777777778,
              "#fb9f3a"
             ],
             [
              0.8888888888888888,
              "#fdca26"
             ],
             [
              1,
              "#f0f921"
             ]
            ],
            "type": "histogram2dcontour"
           }
          ],
          "mesh3d": [
           {
            "colorbar": {
             "outlinewidth": 0,
             "ticks": ""
            },
            "type": "mesh3d"
           }
          ],
          "parcoords": [
           {
            "line": {
             "colorbar": {
              "outlinewidth": 0,
              "ticks": ""
             }
            },
            "type": "parcoords"
           }
          ],
          "pie": [
           {
            "automargin": true,
            "type": "pie"
           }
          ],
          "scatter": [
           {
            "marker": {
             "colorbar": {
              "outlinewidth": 0,
              "ticks": ""
             }
            },
            "type": "scatter"
           }
          ],
          "scatter3d": [
           {
            "line": {
             "colorbar": {
              "outlinewidth": 0,
              "ticks": ""
             }
            },
            "marker": {
             "colorbar": {
              "outlinewidth": 0,
              "ticks": ""
             }
            },
            "type": "scatter3d"
           }
          ],
          "scattercarpet": [
           {
            "marker": {
             "colorbar": {
              "outlinewidth": 0,
              "ticks": ""
             }
            },
            "type": "scattercarpet"
           }
          ],
          "scattergeo": [
           {
            "marker": {
             "colorbar": {
              "outlinewidth": 0,
              "ticks": ""
             }
            },
            "type": "scattergeo"
           }
          ],
          "scattergl": [
           {
            "marker": {
             "colorbar": {
              "outlinewidth": 0,
              "ticks": ""
             }
            },
            "type": "scattergl"
           }
          ],
          "scattermapbox": [
           {
            "marker": {
             "colorbar": {
              "outlinewidth": 0,
              "ticks": ""
             }
            },
            "type": "scattermapbox"
           }
          ],
          "scatterpolar": [
           {
            "marker": {
             "colorbar": {
              "outlinewidth": 0,
              "ticks": ""
             }
            },
            "type": "scatterpolar"
           }
          ],
          "scatterpolargl": [
           {
            "marker": {
             "colorbar": {
              "outlinewidth": 0,
              "ticks": ""
             }
            },
            "type": "scatterpolargl"
           }
          ],
          "scatterternary": [
           {
            "marker": {
             "colorbar": {
              "outlinewidth": 0,
              "ticks": ""
             }
            },
            "type": "scatterternary"
           }
          ],
          "surface": [
           {
            "colorbar": {
             "outlinewidth": 0,
             "ticks": ""
            },
            "colorscale": [
             [
              0,
              "#0d0887"
             ],
             [
              0.1111111111111111,
              "#46039f"
             ],
             [
              0.2222222222222222,
              "#7201a8"
             ],
             [
              0.3333333333333333,
              "#9c179e"
             ],
             [
              0.4444444444444444,
              "#bd3786"
             ],
             [
              0.5555555555555556,
              "#d8576b"
             ],
             [
              0.6666666666666666,
              "#ed7953"
             ],
             [
              0.7777777777777778,
              "#fb9f3a"
             ],
             [
              0.8888888888888888,
              "#fdca26"
             ],
             [
              1,
              "#f0f921"
             ]
            ],
            "type": "surface"
           }
          ],
          "table": [
           {
            "cells": {
             "fill": {
              "color": "#EBF0F8"
             },
             "line": {
              "color": "white"
             }
            },
            "header": {
             "fill": {
              "color": "#C8D4E3"
             },
             "line": {
              "color": "white"
             }
            },
            "type": "table"
           }
          ]
         },
         "layout": {
          "annotationdefaults": {
           "arrowcolor": "#2a3f5f",
           "arrowhead": 0,
           "arrowwidth": 1
          },
          "autotypenumbers": "strict",
          "coloraxis": {
           "colorbar": {
            "outlinewidth": 0,
            "ticks": ""
           }
          },
          "colorscale": {
           "diverging": [
            [
             0,
             "#8e0152"
            ],
            [
             0.1,
             "#c51b7d"
            ],
            [
             0.2,
             "#de77ae"
            ],
            [
             0.3,
             "#f1b6da"
            ],
            [
             0.4,
             "#fde0ef"
            ],
            [
             0.5,
             "#f7f7f7"
            ],
            [
             0.6,
             "#e6f5d0"
            ],
            [
             0.7,
             "#b8e186"
            ],
            [
             0.8,
             "#7fbc41"
            ],
            [
             0.9,
             "#4d9221"
            ],
            [
             1,
             "#276419"
            ]
           ],
           "sequential": [
            [
             0,
             "#0d0887"
            ],
            [
             0.1111111111111111,
             "#46039f"
            ],
            [
             0.2222222222222222,
             "#7201a8"
            ],
            [
             0.3333333333333333,
             "#9c179e"
            ],
            [
             0.4444444444444444,
             "#bd3786"
            ],
            [
             0.5555555555555556,
             "#d8576b"
            ],
            [
             0.6666666666666666,
             "#ed7953"
            ],
            [
             0.7777777777777778,
             "#fb9f3a"
            ],
            [
             0.8888888888888888,
             "#fdca26"
            ],
            [
             1,
             "#f0f921"
            ]
           ],
           "sequentialminus": [
            [
             0,
             "#0d0887"
            ],
            [
             0.1111111111111111,
             "#46039f"
            ],
            [
             0.2222222222222222,
             "#7201a8"
            ],
            [
             0.3333333333333333,
             "#9c179e"
            ],
            [
             0.4444444444444444,
             "#bd3786"
            ],
            [
             0.5555555555555556,
             "#d8576b"
            ],
            [
             0.6666666666666666,
             "#ed7953"
            ],
            [
             0.7777777777777778,
             "#fb9f3a"
            ],
            [
             0.8888888888888888,
             "#fdca26"
            ],
            [
             1,
             "#f0f921"
            ]
           ]
          },
          "colorway": [
           "#636efa",
           "#EF553B",
           "#00cc96",
           "#ab63fa",
           "#FFA15A",
           "#19d3f3",
           "#FF6692",
           "#B6E880",
           "#FF97FF",
           "#FECB52"
          ],
          "font": {
           "color": "#2a3f5f"
          },
          "geo": {
           "bgcolor": "white",
           "lakecolor": "white",
           "landcolor": "#E5ECF6",
           "showlakes": true,
           "showland": true,
           "subunitcolor": "white"
          },
          "hoverlabel": {
           "align": "left"
          },
          "hovermode": "closest",
          "mapbox": {
           "style": "light"
          },
          "paper_bgcolor": "white",
          "plot_bgcolor": "#E5ECF6",
          "polar": {
           "angularaxis": {
            "gridcolor": "white",
            "linecolor": "white",
            "ticks": ""
           },
           "bgcolor": "#E5ECF6",
           "radialaxis": {
            "gridcolor": "white",
            "linecolor": "white",
            "ticks": ""
           }
          },
          "scene": {
           "xaxis": {
            "backgroundcolor": "#E5ECF6",
            "gridcolor": "white",
            "gridwidth": 2,
            "linecolor": "white",
            "showbackground": true,
            "ticks": "",
            "zerolinecolor": "white"
           },
           "yaxis": {
            "backgroundcolor": "#E5ECF6",
            "gridcolor": "white",
            "gridwidth": 2,
            "linecolor": "white",
            "showbackground": true,
            "ticks": "",
            "zerolinecolor": "white"
           },
           "zaxis": {
            "backgroundcolor": "#E5ECF6",
            "gridcolor": "white",
            "gridwidth": 2,
            "linecolor": "white",
            "showbackground": true,
            "ticks": "",
            "zerolinecolor": "white"
           }
          },
          "shapedefaults": {
           "line": {
            "color": "#2a3f5f"
           }
          },
          "ternary": {
           "aaxis": {
            "gridcolor": "white",
            "linecolor": "white",
            "ticks": ""
           },
           "baxis": {
            "gridcolor": "white",
            "linecolor": "white",
            "ticks": ""
           },
           "bgcolor": "#E5ECF6",
           "caxis": {
            "gridcolor": "white",
            "linecolor": "white",
            "ticks": ""
           }
          },
          "title": {
           "x": 0.05
          },
          "xaxis": {
           "automargin": true,
           "gridcolor": "white",
           "linecolor": "white",
           "ticks": "",
           "title": {
            "standoff": 15
           },
           "zerolinecolor": "white",
           "zerolinewidth": 2
          },
          "yaxis": {
           "automargin": true,
           "gridcolor": "white",
           "linecolor": "white",
           "ticks": "",
           "title": {
            "standoff": 15
           },
           "zerolinecolor": "white",
           "zerolinewidth": 2
          }
         }
        },
        "xaxis": {
         "anchor": "y",
         "domain": [
          0,
          1
         ],
         "title": {
          "text": "index"
         }
        },
        "yaxis": {
         "anchor": "x",
         "domain": [
          0,
          1
         ],
         "title": {
          "text": "value"
         }
        }
       }
      }
     },
     "metadata": {},
     "output_type": "display_data"
    }
   ],
   "source": [
    "history_df = pd.DataFrame(data=history.history)\n",
    "fig = px.line(history_df,y=[\"loss\",\"val_loss\"])\n",
    "fig.show()"
   ]
  },
  {
   "cell_type": "code",
   "execution_count": 24,
   "metadata": {},
   "outputs": [],
   "source": [
    "y_pred = model.predict(y_test)\n",
    "y_test_flatten = y_test.reshape(-1)\n",
    "y_pred_flatten = y_pred.reshape(-1)"
   ]
  },
  {
   "cell_type": "code",
   "execution_count": 25,
   "metadata": {},
   "outputs": [
    {
     "name": "stdout",
     "output_type": "stream",
     "text": [
      "Model performance to predict coordinates 0\n",
      "\taccuracy : 74.8 %\n",
      "\tprecision : 40.5 %\n",
      "\trecall : 41.8 %\n"
     ]
    }
   ],
   "source": [
    "TP = sum((y_pred_flatten == 0) & (y_test_flatten == 0))\n",
    "TN = sum((y_pred_flatten != 0) & (y_test_flatten != 0))\n",
    "FP = sum((y_pred_flatten == 0) & (y_test_flatten != 0))\n",
    "FN = sum((y_pred_flatten != 0) & (y_test_flatten == 0))\n",
    "\n",
    "p = TP  / (TP+FP)\n",
    "r = TP / (TP + FN)\n",
    "a = (TP + TN) / (TP+TN+FP+FN)\n",
    "\n",
    "print(\"Model performance to predict coordinates 0\")\n",
    "print(f\"\\taccuracy : {a*100:.1f} %\")\n",
    "print(f\"\\tprecision : {p*100:.1f} %\")\n",
    "print(f\"\\trecall : {r*100:.1f} %\")"
   ]
  },
  {
   "cell_type": "code",
   "execution_count": null,
   "metadata": {},
   "outputs": [],
   "source": []
  }
 ],
 "metadata": {
  "interpreter": {
   "hash": "0bb04f440bdde480dddfb2cc51fa2036a99549bd1f95d6dc040ab4c6bec6967f"
  },
  "kernelspec": {
   "display_name": "Python 3.8.12 64-bit ('tf': conda)",
   "language": "python",
   "name": "python3"
  },
  "language_info": {
   "codemirror_mode": {
    "name": "ipython",
    "version": 3
   },
   "file_extension": ".py",
   "mimetype": "text/x-python",
   "name": "python",
   "nbconvert_exporter": "python",
   "pygments_lexer": "ipython3",
   "version": "3.8.12"
  },
  "orig_nbformat": 4
 },
 "nbformat": 4,
 "nbformat_minor": 2
}
