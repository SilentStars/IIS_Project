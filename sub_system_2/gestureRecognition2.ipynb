{
 "cells": [
  {
   "cell_type": "code",
   "execution_count": 136,
   "id": "5375d340",
   "metadata": {},
   "outputs": [],
   "source": [
    "import pandas as pd\n",
    "import numpy as np\n",
    "import os\n",
    "from glob import glob\n",
    "from sklearn.model_selection import train_test_split\n",
    "from sklearn.utils import shuffle\n",
    "import sklearn as sk\n",
    "import tensorflow as tf\n",
    "import matplotlib.pyplot as plt\n",
    "#'width': 640, 'height': 480\n",
    "# %%"
   ]
  },
  {
   "cell_type": "code",
   "execution_count": 97,
   "id": "0b1d01f9",
   "metadata": {},
   "outputs": [],
   "source": [
    "\n",
    "datasets = []\n",
    "\n",
    "data_folders = glob('./course_dataset/ASL_*')\n",
    "list_df = [pd.read_csv(os.path.join(folder,'annotations.csv'),index_col='ID') for folder in data_folders]\n",
    "\n",
    "list_df\n",
    "\n",
    "for letter_df in list_df:\n",
    "    dataset  = []\n",
    "    ## get label\n",
    "    label = letter_df.gesture.iloc[0]\n",
    "    ## Remove 'hand_position'\n",
    "    df = letter_df.drop(letter_df[letter_df.joint == 'hand_position'].index,)\n"
   ]
  },
  {
   "cell_type": "code",
   "execution_count": null,
   "id": "19b51dea",
   "metadata": {},
   "outputs": [],
   "source": [
    "for letter_df in list_df:\n",
    "    dataset  = []\n",
    "    ## get label\n",
    "    label = letter_df.gesture.iloc[0].split(\"_\")[-1]\n",
    "\n",
    "    ## Remove 'hand_position'\n",
    "    df = letter_df.drop(letter_df[letter_df.joint == 'hand_position'].index,)\n",
    "\n",
    "    # ------- TO DO ---------\n",
    "    # Normalize x and y\n",
    "\n",
    "    # Append joints coordinates and letter for each frame of each video\n",
    "    for video_id in df.video_idx.unique():\n",
    "        video_df = df[df.video_idx == video_id]\n",
    "        for frame in video_df.frame.unique():\n",
    "            frame_df = video_df[video_df.frame == frame]\n",
    "            dataset.append([frame_df[[\"x\",\"y\"]].to_numpy().tolist(),label])\n",
    "    datasets.append(dataset)\n",
    "\n"
   ]
  },
  {
   "cell_type": "code",
   "execution_count": 116,
   "id": "9e04740d",
   "metadata": {},
   "outputs": [],
   "source": [
    "\n",
    "\n",
    "#%%\n",
    "all = list_df[0].copy()\n",
    "for i in range(1,len(list_df)):\n",
    "    all = all.append(list_df[i])\n",
    "\n",
    "# %%\n",
    "ds_train = []\n",
    "ds_test = []\n",
    "\n",
    "for ds in datasets:\n",
    "    train,test = train_test_split(ds,test_size=.3)\n",
    "    ds_train += train\n",
    "    ds_test += test\n",
    "\n",
    "# %%\n",
    "X_train = np.array([train[0] for train in ds_train])\n",
    "Y_train = np.array([train[1] for train in ds_train])\n",
    "\n",
    "X_train,X_val,Y_train,Y_val = train_test_split(X_train,Y_train,test_size=.2)\n",
    "\n",
    "X_train,Y_train = shuffle(X_train,Y_train)\n",
    "\n",
    "X_test = np.array([test[0] for test in ds_test])\n",
    "Y_test = np.array([test[1] for test in ds_test])\n",
    "\n",
    "# One-Hot encode the labels for training\n",
    "encoder = sk.preprocessing.OneHotEncoder(dtype=np.float32)\n",
    "encoder.fit(Y_train.reshape((-1, 1)))\n",
    "\n",
    "Y_train_encoded = encoder.transform(Y_train.reshape((-1, 1))).toarray()\n",
    "Y_val_encoded = encoder.transform(Y_val.reshape((-1, 1))).toarray()\n",
    "Y_test_encoded = encoder.transform(Y_test.reshape((-1, 1))).toarray()\n"
   ]
  },
  {
   "cell_type": "code",
   "execution_count": 180,
   "id": "31255540",
   "metadata": {},
   "outputs": [
    {
     "name": "stdout",
     "output_type": "stream",
     "text": [
      "Train on 57324 samples, validate on 14332 samples\n",
      "Epoch 1/5\n",
      "57324/57324 [==============================] - 3s 50us/sample - loss: 1.3056 - categorical_accuracy: 0.9436 - val_loss: 0.0196 - val_categorical_accuracy: 0.9967\n",
      "Epoch 2/5\n",
      "57324/57324 [==============================] - 2s 40us/sample - loss: 0.0202 - categorical_accuracy: 0.9948 - val_loss: 0.0046 - val_categorical_accuracy: 0.9991\n",
      "Epoch 3/5\n",
      "57324/57324 [==============================] - 2s 39us/sample - loss: 0.0052 - categorical_accuracy: 0.9982 - val_loss: 0.0042 - val_categorical_accuracy: 0.9984\n",
      "Epoch 4/5\n",
      "57324/57324 [==============================] - 2s 41us/sample - loss: 0.0011 - categorical_accuracy: 0.9999 - val_loss: 5.2816e-04 - val_categorical_accuracy: 1.0000\n",
      "Epoch 5/5\n",
      "57324/57324 [==============================] - 2s 41us/sample - loss: 5.2794e-04 - categorical_accuracy: 1.0000 - val_loss: 3.4257e-04 - val_categorical_accuracy: 1.0000\n"
     ]
    },
    {
     "data": {
      "image/png": "[encoded data removed]",
      "text/plain": [
       "<Figure size 432x288 with 1 Axes>"
      ]
     },
     "metadata": {
      "needs_background": "light"
     },
     "output_type": "display_data"
    },
    {
     "data": {
      "image/png": "[encoded data removed]",
      "text/plain": [
       "<Figure size 432x288 with 1 Axes>"
      ]
     },
     "metadata": {
      "needs_background": "light"
     },
     "output_type": "display_data"
    },
    {
     "name": "stdout",
     "output_type": "stream",
     "text": [
      "The train accuracy is 100.0 %\n",
      "The test accuracy is 100.0 %\n"
     ]
    }
   ],
   "source": [
    "\n",
    "model = tf.keras.models.Sequential(\n",
    "    layers= [\n",
    "        tf.keras.layers.Input(shape=(20,2)),\n",
    "        tf.keras.layers.Flatten(),\n",
    "        tf.keras.layers.Dense(100, activation=\"relu\"),\n",
    "        tf.keras.layers.Dense(50, activation=\"relu\"),\n",
    "        tf.keras.layers.Dense(20, activation=\"relu\"),\n",
    "        tf.keras.layers.Dense(6, activation=\"softmax\"),\n",
    "    ]\n",
    ")\n",
    "\n",
    "model.compile(\n",
    "optimizer=tf.keras.optimizers.Adam(learning_rate=0.001), \n",
    "loss=tf.keras.losses.CategoricalCrossentropy(),\n",
    "metrics=[tf.keras.metrics.CategoricalAccuracy()])\n",
    "    \n",
    "\n",
    "history=model.fit(x=X_train,\n",
    "          y=Y_train_encoded,\n",
    "          validation_data = (X_val,Y_val_encoded),\n",
    "          batch_size=100,\n",
    "          epochs=5,\n",
    "         )\n",
    "\n",
    "plt.plot(history.history['categorical_accuracy'])\n",
    "plt.plot(history.history['val_categorical_accuracy'])\n",
    "plt.title('model accuracy')\n",
    "plt.ylabel('accuracy')\n",
    "plt.xlabel('epoch')\n",
    "plt.legend(['train', 'validation'], loc='center right')\n",
    "plt.show()\n",
    " \n",
    "plt.plot(history.history['loss'])\n",
    "plt.plot(history.history['val_loss'])\n",
    "plt.title('model loss')\n",
    "plt.ylabel('loss')\n",
    "plt.xlabel('epoch')\n",
    "plt.legend(['train', 'validation'], loc='center right')\n",
    "plt.show()\n",
    "\n",
    "_,train_accuracy= model.evaluate(X_train, Y_train_encoded, verbose=0)\n",
    "print(\"The train accuracy is\", train_accuracy*100,\"%\")\n",
    "\n",
    "_,test_accuracy = model.evaluate(X_test, Y_test_encoded,verbose=0)\n",
    "print(\"The test accuracy is\" , test_accuracy * 100 , \"%\")\n",
    "\n"
   ]
  },
  {
   "cell_type": "code",
   "execution_count": null,
   "id": "c18aa076",
   "metadata": {},
   "outputs": [],
   "source": []
  }
 ],
 "metadata": {
  "kernelspec": {
   "display_name": "Python 3 (ipykernel)",
   "language": "python",
   "name": "python3"
  },
  "language_info": {
   "codemirror_mode": {
    "name": "ipython",
    "version": 3
   },
   "file_extension": ".py",
   "mimetype": "text/x-python",
   "name": "python",
   "nbconvert_exporter": "python",
   "pygments_lexer": "ipython3",
   "version": "3.7.11"
  }
 },
 "nbformat": 4,
 "nbformat_minor": 5
}
